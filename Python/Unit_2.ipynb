{
 "cells": [
  {
   "cell_type": "code",
   "execution_count": null,
   "id": "7a6ea66e",
   "metadata": {},
   "outputs": [
    {
     "ename": "IndentationError",
     "evalue": "expected an indented block after 'while' statement on line 2 (1196497928.py, line 3)",
     "output_type": "error",
     "traceback": [
      "  \u001b[36mCell\u001b[39m\u001b[36m \u001b[39m\u001b[32mIn[4]\u001b[39m\u001b[32m, line 3\u001b[39m\n\u001b[31m    \u001b[39m\u001b[31mprint(i)\u001b[39m\n    ^\n\u001b[31mIndentationError\u001b[39m\u001b[31m:\u001b[39m expected an indented block after 'while' statement on line 2\n"
     ]
    }
   ],
   "source": [
    "i = 1\n",
    "while i < 6:\n",
    "    print(i)\n",
    "    i += 1\n",
    "    "
   ]
  },
  {
   "cell_type": "code",
   "execution_count": null,
   "id": "c765b4c9",
   "metadata": {},
   "outputs": [
    {
     "name": "stdout",
     "output_type": "stream",
     "text": [
      "Apple\n",
      "banana\n",
      "cherry\n"
     ]
    }
   ],
   "source": [
    "fruits = \"Apple\",\"banana\",\"cherry\";\n",
    "for x in fruits:\n",
    "    print(x)"
   ]
  },
  {
   "cell_type": "code",
   "execution_count": 9,
   "id": "56620601",
   "metadata": {},
   "outputs": [
    {
     "data": {
      "text/plain": [
       "tuple"
      ]
     },
     "execution_count": 9,
     "metadata": {},
     "output_type": "execute_result"
    }
   ],
   "source": [
    "type(fruits)"
   ]
  },
  {
   "cell_type": "markdown",
   "id": "86601d2c",
   "metadata": {},
   "source": [
    "#break"
   ]
  },
  {
   "cell_type": "code",
   "execution_count": 10,
   "id": "3d56bea2",
   "metadata": {},
   "outputs": [
    {
     "name": "stdout",
     "output_type": "stream",
     "text": [
      "Apple\n",
      "banana\n"
     ]
    }
   ],
   "source": [
    "fruits = \"Apple\",\"banana\",\"cherry\";\n",
    "for x in fruits:\n",
    "    print(x)\n",
    "    if x == \"banana\":\n",
    "        break"
   ]
  },
  {
   "cell_type": "code",
   "execution_count": 12,
   "id": "ec0cf28a",
   "metadata": {},
   "outputs": [
    {
     "name": "stdout",
     "output_type": "stream",
     "text": [
      "Apple\n",
      "cherry\n"
     ]
    }
   ],
   "source": [
    "fruits = \"Apple\",\"banana\",\"cherry\";\n",
    "for x in fruits:\n",
    "    if x == \"banana\":\n",
    "        continue\n",
    "    print(x)"
   ]
  },
  {
   "cell_type": "code",
   "execution_count": 14,
   "id": "5e96fa4b",
   "metadata": {},
   "outputs": [
    {
     "name": "stdout",
     "output_type": "stream",
     "text": [
      "0\n",
      "1\n",
      "2\n",
      "3\n",
      "4\n",
      "5\n"
     ]
    }
   ],
   "source": [
    "for x in range(6):\n",
    "    print(x)"
   ]
  },
  {
   "cell_type": "code",
   "execution_count": 17,
   "id": "4a721be8",
   "metadata": {},
   "outputs": [
    {
     "name": "stdout",
     "output_type": "stream",
     "text": [
      "2\n",
      "5\n",
      "8\n",
      "11\n",
      "14\n",
      "17\n"
     ]
    }
   ],
   "source": [
    "for x in range(2,20,3):\n",
    "    print(x)"
   ]
  },
  {
   "cell_type": "code",
   "execution_count": 20,
   "id": "0de09340",
   "metadata": {},
   "outputs": [
    {
     "name": "stdout",
     "output_type": "stream",
     "text": [
      "0\n",
      "1\n",
      "2\n",
      "3\n",
      "4\n",
      "5\n",
      "Final\n"
     ]
    }
   ],
   "source": [
    "for x in range(6):\n",
    "    print(x)\n",
    "else:\n",
    "    print(\"Final\")"
   ]
  },
  {
   "cell_type": "markdown",
   "id": "0c6d941d",
   "metadata": {},
   "source": [
    "#Nested Loop"
   ]
  },
  {
   "cell_type": "code",
   "execution_count": 21,
   "id": "1e1446ec",
   "metadata": {},
   "outputs": [
    {
     "name": "stdout",
     "output_type": "stream",
     "text": [
      "A Apple\n",
      "A banana\n",
      "A cherry\n",
      "B Apple\n",
      "B banana\n",
      "B cherry\n",
      "C Apple\n",
      "C banana\n",
      "C cherry\n"
     ]
    }
   ],
   "source": [
    "a= [\"A\",\"B\",\"C\"]\n",
    "fruits = [\"Apple\",\"banana\",\"cherry\"]\n",
    "for x in a:\n",
    "    for y in fruits:\n",
    "        print(x,y)"
   ]
  },
  {
   "cell_type": "code",
   "execution_count": 22,
   "id": "b71be743",
   "metadata": {},
   "outputs": [],
   "source": [
    "for x in [0,1,2,3]:\n",
    "    pass"
   ]
  },
  {
   "cell_type": "markdown",
   "id": "68a70561",
   "metadata": {},
   "source": [
    "#list"
   ]
  },
  {
   "cell_type": "code",
   "execution_count": 1,
   "id": "3b3b7bcb",
   "metadata": {},
   "outputs": [
    {
     "data": {
      "text/plain": [
       "['Rohan', 1, 3]"
      ]
     },
     "execution_count": 1,
     "metadata": {},
     "output_type": "execute_result"
    }
   ],
   "source": [
    "list1=[\"Rohan\",1,3]\n",
    "list1\n"
   ]
  },
  {
   "cell_type": "code",
   "execution_count": 2,
   "id": "14e2e004",
   "metadata": {},
   "outputs": [
    {
     "data": {
      "text/plain": [
       "['rohan', 1, 3, 'apple', 'Apple']"
      ]
     },
     "execution_count": 2,
     "metadata": {},
     "output_type": "execute_result"
    }
   ],
   "source": [
    "list1=[\"rohan\",1,3,\"apple\",\"Apple\"]\n",
    "list1"
   ]
  },
  {
   "cell_type": "code",
   "execution_count": 3,
   "id": "4a7a3a92",
   "metadata": {},
   "outputs": [
    {
     "name": "stdout",
     "output_type": "stream",
     "text": [
      "5\n"
     ]
    }
   ],
   "source": [
    "print(len(list1))\n"
   ]
  },
  {
   "cell_type": "code",
   "execution_count": 4,
   "id": "5c1bb428",
   "metadata": {},
   "outputs": [
    {
     "data": {
      "text/plain": [
       "['rohan', 1, 3, 'apple', 'apple']"
      ]
     },
     "execution_count": 4,
     "metadata": {},
     "output_type": "execute_result"
    }
   ],
   "source": [
    "#list() constructor\n",
    "list2=list((\"rohan\",1,3,\"apple\",\"apple\"))\n",
    "list2\n"
   ]
  },
  {
   "cell_type": "markdown",
   "id": "add405d6",
   "metadata": {},
   "source": [
    "#access in list"
   ]
  },
  {
   "cell_type": "code",
   "execution_count": 8,
   "id": "005cad2a",
   "metadata": {},
   "outputs": [
    {
     "name": "stdout",
     "output_type": "stream",
     "text": [
      "1\n"
     ]
    }
   ],
   "source": [
    "list1=[\"rohan\",1,3,\"rohan\",\"apple\",\"Apple\"]\n",
    "print(list1[1]);"
   ]
  },
  {
   "cell_type": "markdown",
   "id": "d0573c5d",
   "metadata": {},
   "source": [
    "#negative indexing"
   ]
  },
  {
   "cell_type": "code",
   "execution_count": 9,
   "id": "ec8368f5",
   "metadata": {},
   "outputs": [
    {
     "name": "stdout",
     "output_type": "stream",
     "text": [
      "Apple\n"
     ]
    }
   ],
   "source": [
    "list1=[\"rohan\",1,3,\"rohan\",\"apple\",\"Apple\"]\n",
    "print(list1[-1]);"
   ]
  },
  {
   "cell_type": "markdown",
   "id": "7db52a0c",
   "metadata": {},
   "source": [
    "#range of indexes"
   ]
  },
  {
   "cell_type": "code",
   "execution_count": 10,
   "id": "1eba212a",
   "metadata": {},
   "outputs": [
    {
     "name": "stdout",
     "output_type": "stream",
     "text": [
      "[3, 'rohan', 'apple']\n"
     ]
    }
   ],
   "source": [
    "list1=[\"rohan\",1,3,\"rohan\",\"apple\",\"Apple\"]\n",
    "print(list1[2:5]);"
   ]
  },
  {
   "cell_type": "code",
   "execution_count": 11,
   "id": "64f5e264",
   "metadata": {},
   "outputs": [
    {
     "name": "stdout",
     "output_type": "stream",
     "text": [
      "[3, 'rohan', 'apple']\n"
     ]
    }
   ],
   "source": [
    "list1=[\"rohan\",1,3,\"rohan\",\"apple\",\"Apple\"]\n",
    "print(list1[-4:-1])"
   ]
  },
  {
   "cell_type": "markdown",
   "id": "7304125f",
   "metadata": {},
   "source": [
    "#check if item exists"
   ]
  },
  {
   "cell_type": "code",
   "execution_count": 13,
   "id": "285ae591",
   "metadata": {},
   "outputs": [
    {
     "name": "stdout",
     "output_type": "stream",
     "text": [
      "yes\n"
     ]
    }
   ],
   "source": [
    "list1=[\"rohan\",1,3,\"rohan\",\"apple\",\"Apple\"]\n",
    "if \"apple\" in list1:\n",
    "    print(\"yes\")"
   ]
  },
  {
   "cell_type": "markdown",
   "id": "060c8a8f",
   "metadata": {},
   "source": [
    "#change last item "
   ]
  },
  {
   "cell_type": "code",
   "execution_count": 14,
   "id": "8b3e1db2",
   "metadata": {},
   "outputs": [
    {
     "name": "stdout",
     "output_type": "stream",
     "text": [
      "['lakshay', 1, 3, 'rohan', 'apple', 'Apple']\n"
     ]
    }
   ],
   "source": [
    "list1=[\"rohan\",1,3,\"rohan\",\"apple\",\"Apple\"]\n",
    "list1[0]=\"lakshay\"\n",
    "print(list1)"
   ]
  },
  {
   "cell_type": "code",
   "execution_count": 17,
   "id": "0683560b",
   "metadata": {},
   "outputs": [
    {
     "name": "stdout",
     "output_type": "stream",
     "text": [
      "['rohan', 'Aman', 'Ankit', 'Anshul', 'rohan', 'apple', 'Apple']\n"
     ]
    }
   ],
   "source": [
    "list1=[\"rohan\",1,3,\"rohan\",\"apple\",\"Apple\"]\n",
    "list1[1:3]=['Aman','Ankit','Anshul']\n",
    "print(list1)"
   ]
  },
  {
   "cell_type": "markdown",
   "id": "beb17f3b",
   "metadata": {},
   "source": [
    "#append"
   ]
  },
  {
   "cell_type": "code",
   "execution_count": 19,
   "id": "1f02f078",
   "metadata": {},
   "outputs": [
    {
     "data": {
      "text/plain": [
       "['rohan', 'Aman', 'Ankit', 'Anshul', 'rohan', 'apple', 'Apple', 'world']"
      ]
     },
     "execution_count": 19,
     "metadata": {},
     "output_type": "execute_result"
    }
   ],
   "source": [
    "list1.append(\"world\")\n",
    "list1"
   ]
  },
  {
   "cell_type": "markdown",
   "id": "1ca64cee",
   "metadata": {},
   "source": [
    "#extend list"
   ]
  },
  {
   "cell_type": "code",
   "execution_count": 22,
   "id": "57a4d81d",
   "metadata": {},
   "outputs": [
    {
     "data": {
      "text/plain": [
       "[1, 3, 'rohan', 'apple', 'Apple', 'hello', 'everyone', 'hello', 'everyone']"
      ]
     },
     "execution_count": 22,
     "metadata": {},
     "output_type": "execute_result"
    }
   ],
   "source": [
    "list2=[\"hello\",\"everyone\"]\n",
    "list1.extend(list2)\n",
    "list1"
   ]
  },
  {
   "cell_type": "markdown",
   "id": "c5131ad7",
   "metadata": {},
   "source": [
    "#remove"
   ]
  },
  {
   "cell_type": "code",
   "execution_count": 20,
   "id": "0cca67a0",
   "metadata": {},
   "outputs": [
    {
     "data": {
      "text/plain": [
       "[1, 3, 'rohan', 'apple', 'Apple']"
      ]
     },
     "execution_count": 20,
     "metadata": {},
     "output_type": "execute_result"
    }
   ],
   "source": [
    "list1=[\"rohan\",1,3,\"rohan\",\"apple\",\"Apple\"]\n",
    "list1.remove(\"rohan\")\n",
    "list1"
   ]
  },
  {
   "cell_type": "code",
   "execution_count": 23,
   "id": "82016132",
   "metadata": {},
   "outputs": [
    {
     "data": {
      "text/plain": [
       "1"
      ]
     },
     "execution_count": 23,
     "metadata": {},
     "output_type": "execute_result"
    }
   ],
   "source": [
    "list1=[\"rohan\",1,3,\"rohan\",\"apple\",\"Apple\"]\n",
    "list1.pop(1)"
   ]
  },
  {
   "cell_type": "code",
   "execution_count": 24,
   "id": "b4d8b873",
   "metadata": {},
   "outputs": [
    {
     "data": {
      "text/plain": [
       "['rohan', 3, 'rohan', 'apple', 'Apple']"
      ]
     },
     "execution_count": 24,
     "metadata": {},
     "output_type": "execute_result"
    }
   ],
   "source": [
    "list1"
   ]
  },
  {
   "cell_type": "markdown",
   "id": "94951b28",
   "metadata": {},
   "source": []
  },
  {
   "cell_type": "code",
   "execution_count": 2,
   "id": "c9a58ae5",
   "metadata": {},
   "outputs": [
    {
     "name": "stdout",
     "output_type": "stream",
     "text": [
      "['APPLE', 'BANANA', 'CHERRY', 'ORANGE', 'KIWI']\n"
     ]
    }
   ],
   "source": [
    "fruits = [\"apple\", \"banana\", \"cherry\", \"orange\", \"kiwi\"]\n",
    "newlist = [x.upper() for x in fruits]\n",
    "print(newlist)"
   ]
  },
  {
   "cell_type": "code",
   "execution_count": 3,
   "id": "40d6972e",
   "metadata": {},
   "outputs": [
    {
     "name": "stdout",
     "output_type": "stream",
     "text": [
      "['Apple', 'Banana', 'Cherry', 'Orange', 'Kiwi']\n"
     ]
    }
   ],
   "source": [
    "fruits = [\"apple\", \"banana\", \"cherry\", \"orange\", \"kiwi\"]\n",
    "newlist = [x.capitalize() for x in fruits]\n",
    "print(newlist)"
   ]
  },
  {
   "cell_type": "code",
   "execution_count": 6,
   "id": "7a3aed5b",
   "metadata": {},
   "outputs": [
    {
     "name": "stdout",
     "output_type": "stream",
     "text": [
      "['cherry', 'banana', 'apple']\n"
     ]
    }
   ],
   "source": [
    "list1=['apple','banana','cherry']\n",
    "list1.reverse()\n",
    "print(list1)"
   ]
  },
  {
   "cell_type": "markdown",
   "id": "93757c3d",
   "metadata": {},
   "source": [
    "#copy "
   ]
  },
  {
   "cell_type": "code",
   "execution_count": 1,
   "id": "afb27279",
   "metadata": {},
   "outputs": [
    {
     "data": {
      "text/plain": [
       "['apple', 'banana', 'cherry']"
      ]
     },
     "execution_count": 1,
     "metadata": {},
     "output_type": "execute_result"
    }
   ],
   "source": [
    "a=['apple','banana','cherry']\n",
    "mylist=a.copy()\n",
    "mylist"
   ]
  },
  {
   "cell_type": "code",
   "execution_count": 2,
   "id": "b6c68bd1",
   "metadata": {},
   "outputs": [
    {
     "data": {
      "text/plain": [
       "['apple', 'banana', 'cherry']"
      ]
     },
     "execution_count": 2,
     "metadata": {},
     "output_type": "execute_result"
    }
   ],
   "source": [
    "a=['apple','banana','cherry']\n",
    "mylist=list(a)\n",
    "mylist"
   ]
  },
  {
   "cell_type": "code",
   "execution_count": null,
   "id": "fce069fa",
   "metadata": {},
   "outputs": [
    {
     "name": "stdout",
     "output_type": "stream",
     "text": [
      "['apple', 'banana', 'cherry']\n"
     ]
    }
   ],
   "source": [
    "a=['apple','banana','cherry']\n",
    "mylist=a(;)\n",
    "print(mylist)"
   ]
  },
  {
   "cell_type": "markdown",
   "id": "2c9506ec",
   "metadata": {},
   "source": [
    "#join 2 lists"
   ]
  },
  {
   "cell_type": "code",
   "execution_count": 6,
   "id": "734095a8",
   "metadata": {},
   "outputs": [
    {
     "name": "stdout",
     "output_type": "stream",
     "text": [
      "['a', 'b', 'c', 1, 2, 3]\n"
     ]
    }
   ],
   "source": [
    "lis1=['a','b','c']\n",
    "list2=[1,2,3]\n",
    "list3=lis1+list2\n",
    "print(list3)"
   ]
  },
  {
   "cell_type": "code",
   "execution_count": 8,
   "id": "90de301e",
   "metadata": {},
   "outputs": [
    {
     "name": "stdout",
     "output_type": "stream",
     "text": [
      "['a', 'b', 'c', 1, 2, 3]\n"
     ]
    }
   ],
   "source": [
    "list1=['a','b','c']\n",
    "list2=[1,2,3]\n",
    "for x in list2:\n",
    "    list1.append(x)\n",
    "    \n",
    "print(list1)    "
   ]
  },
  {
   "cell_type": "markdown",
   "id": "bdc04956",
   "metadata": {},
   "source": [
    "#extend"
   ]
  },
  {
   "cell_type": "code",
   "execution_count": 9,
   "id": "2d210c9e",
   "metadata": {},
   "outputs": [
    {
     "data": {
      "text/plain": [
       "['a', 'b', 'c', 1, 2, 3]"
      ]
     },
     "execution_count": 9,
     "metadata": {},
     "output_type": "execute_result"
    }
   ],
   "source": [
    "list1=['a','b','c']\n",
    "list2=[1,2,3]\n",
    "list1.extend(list2)\n",
    "list1"
   ]
  },
  {
   "cell_type": "markdown",
   "id": "581dee00",
   "metadata": {},
   "source": [
    "#TUPPLES"
   ]
  },
  {
   "cell_type": "code",
   "execution_count": null,
   "id": "9c303ffd",
   "metadata": {},
   "outputs": [],
   "source": []
  }
 ],
 "metadata": {
  "kernelspec": {
   "display_name": "Python 3",
   "language": "python",
   "name": "python3"
  },
  "language_info": {
   "codemirror_mode": {
    "name": "ipython",
    "version": 3
   },
   "file_extension": ".py",
   "mimetype": "text/x-python",
   "name": "python",
   "nbconvert_exporter": "python",
   "pygments_lexer": "ipython3",
   "version": "3.13.7"
  }
 },
 "nbformat": 4,
 "nbformat_minor": 5
}
